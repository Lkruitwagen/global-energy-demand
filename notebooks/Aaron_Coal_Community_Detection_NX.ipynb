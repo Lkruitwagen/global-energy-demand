{
 "cells": [
  {
   "cell_type": "markdown",
   "metadata": {},
   "source": [
    "# Community Detection on Coal using NetworkX"
   ]
  },
  {
   "cell_type": "markdown",
   "metadata": {},
   "source": [
    "## Loading Data into Graph"
   ]
  },
  {
   "cell_type": "code",
   "execution_count": 9,
   "metadata": {},
   "outputs": [],
   "source": [
    "import os, pickle, sys\n",
    "import json\n",
    "import matplotlib.pyplot as plt\n",
    "from matplotlib.collections import LineCollection\n",
    "\n",
    "from shapely import geometry\n",
    "\n",
    "import geopandas as gpd"
   ]
  },
  {
   "cell_type": "code",
   "execution_count": 10,
   "metadata": {},
   "outputs": [],
   "source": [
    "import pandas as pd\n",
    "import numpy as np\n",
    "import networkx as nx"
   ]
  },
  {
   "cell_type": "code",
   "execution_count": 11,
   "metadata": {},
   "outputs": [],
   "source": [
    "root = os.path.abspath(os.path.join(os.getcwd(),'..'))"
   ]
  },
  {
   "cell_type": "code",
   "execution_count": 12,
   "metadata": {},
   "outputs": [],
   "source": [
    "sys.path.append(root)"
   ]
  },
  {
   "cell_type": "code",
   "execution_count": 13,
   "metadata": {},
   "outputs": [],
   "source": [
    "from ffsc.flow import *"
   ]
  },
  {
   "cell_type": "code",
   "execution_count": 14,
   "metadata": {},
   "outputs": [],
   "source": [
    "# dictionary assigning colors to different features of the network\n",
    "colors = {\n",
    "    'coal_mines':           '#89163e',\n",
    "    'oil_fields':           '#001c49',\n",
    "    'well_pads':            '#6c0093',\n",
    "    'processing_plants':    '#be46a6',\n",
    "    'refineries':           '#be46a6',\n",
    "    'ports':                '#7f5636',\n",
    "    'lng':                  '#46beb1',\n",
    "    'shipping':             '#7f5636',\n",
    "    'pipelines':            '#006400',\n",
    "    'railways':             '#646464',\n",
    "    'cities':               '#96C3E4',\n",
    "    'power_stations':       '#8ac27e',\n",
    "}"
   ]
  },
  {
   "cell_type": "code",
   "execution_count": 15,
   "metadata": {},
   "outputs": [],
   "source": [
    "# dictionary assigning paths to .csv files\n",
    "all_data_dirs = {\n",
    "            'cities-N':              os.path.join('.','..','results_backup','simplify','cities_nodes_dataframe.csv'),\n",
    "            'pipelines-cities':      os.path.join('.','..','results_backup','simplify','cities_pipelines_edge_dataframe.csv'),\n",
    "            'ports-cities':          os.path.join('.','..','results_backup','output','cities_ports_edge_dataframe.csv'),\n",
    "            'railways-cities':       os.path.join('.','..','results_backup','simplify','cities_railways_edge_dataframe_alt.csv'),\n",
    "            'coalmines-railways':    os.path.join('.','..','results_backup','simplify','coal_mine_railway_edge_dataframe.csv'),\n",
    "            'coalmines-N':           os.path.join('.','..','results_backup','output','coal_mines_nodes_dataframe.csv'),\n",
    "            'lng-N':                 os.path.join('.','..','results_backup','output','lng_nodes_dataframe.csv',  ),\n",
    "            'lng-pipelines':         os.path.join('.','..','results_backup','simplify','lng_pipeline_edge_dataframe.csv'),\n",
    "            'lng-shipping':          os.path.join('.','..','results_backup','output','lng_shipping_route_edge_dataframe.csv'),\n",
    "            'oilfields-pipelines':   os.path.join('.','..','results_backup','simplify','oil_field_edge_dataframe.csv'),\n",
    "            'oilfields-N':           os.path.join('.','..','results_backup','oil_field_nodes_fixup.csv'),\n",
    "            'pipelines-pipelines':   os.path.join('.','..','results_backup','simplify','pipeline_edge_dataframe.csv'),\n",
    "            'pipelines-N':           os.path.join('.','..','results_backup','simplify','pipeline_node_dataframe.csv'),\n",
    "            'ports-N':               os.path.join('.','..','results_backup','output','port_node_dataframe.csv',  ),\n",
    "            'ports-pipelines':       os.path.join('.','..','results_backup','simplify','port_pipeline_edge_dataframe.csv'),\n",
    "            'ports-shipping':        os.path.join('.','..','results_backup','output','port_ship_edge_dataframe.csv'),\n",
    "            'ports-railways':        os.path.join('.','..','results_backup','simplify','port_railway_edge_dataframe.csv'),\n",
    "            'powerstn-N':            os.path.join('.','..','results_backup','output','power_station_nodes_dataframe.csv'),\n",
    "            'powerstn-pipelines':    os.path.join('.','..','results_backup','simplify','power_station_pipeline_edge_dataframe.csv'),\n",
    "            'powerstn-railways':     os.path.join('.','..','results_backup','simplify','power_station_railway_edge_dataframe.csv'),\n",
    "            'procplant-N':           os.path.join('.','..','results_backup','output','processing_plant_nodes_dataframe.csv'),\n",
    "            'procplant-pipelines':   os.path.join('.','..','results_backup','simplify','processing_plant_pipeline_edge_dataframe.csv'),\n",
    "            'railways-railways':     os.path.join('.','..','results_backup','simplify','railway_edge_dataframe.csv'),\n",
    "            'railways-N':            os.path.join('.','..','results_backup','simplify','railway_nodes_dataframe.csv'),\n",
    "            'refineries-N':          os.path.join('.','..','results_backup','output','refinery_nodes_dataframe.csv'),\n",
    "            'refineries-pipelines':  os.path.join('.','..','results_backup','simplify','refinery_pipeline_edge_dataframe.csv'),\n",
    "            'shipping-shipping':     os.path.join('.','..','results_backup','output','shipping_edge_dataframe.csv'),\n",
    "            'shipping-N':            os.path.join('.','..','results_backup','output','shipping_node_dataframe.csv'),\n",
    "            'wellpads-N':            os.path.join('.','..','results_backup','output','well_pad_nodes_dataframe.csv'),\n",
    "            'wellpads-pipelines':    os.path.join('.','..','results_backup','simplify','well_pad_pipeline_edge_dataframe.csv'),\n",
    "        }"
   ]
  },
  {
   "cell_type": "code",
   "execution_count": 20,
   "metadata": {},
   "outputs": [
    {
     "name": "stdout",
     "output_type": "stream",
     "text": [
      "carrier: coal\n",
      "recipes used: coal\n"
     ]
    }
   ],
   "source": [
    "gen = make_nx('coal')"
   ]
  },
  {
   "cell_type": "code",
   "execution_count": 9,
   "metadata": {},
   "outputs": [],
   "source": [
    "gen.all_data_dirs = all_data_dirs"
   ]
  },
  {
   "cell_type": "code",
   "execution_count": 10,
   "metadata": {},
   "outputs": [],
   "source": [
    "gen._load_dfs()"
   ]
  },
  {
   "cell_type": "code",
   "execution_count": 11,
   "metadata": {},
   "outputs": [
    {
     "name": "stdout",
     "output_type": "stream",
     "text": [
      "INFO:ffsc.flow.network_flow:doing step add coalmines -> railways...\n",
      "INFO:ffsc.flow.network_flow:doing step add railways -> railways...\n",
      "INFO:ffsc.flow.network_flow:doing step add railways <- railways...\n",
      "INFO:ffsc.flow.network_flow:doing step add railways -> ports...\n",
      "INFO:ffsc.flow.network_flow:ports-railways missing distance\n",
      "INFO:ffsc.flow.network_flow:['Unnamed: 0', 'Unnamed: 0.1', 'PortNode:START_ID(PortNode)', 'RailwayNodeID:END_ID(PipelineNode)', ':TYPE']\n",
      "INFO:ffsc.flow.network_flow:doing step add railways <- ports...\n",
      "INFO:ffsc.flow.network_flow:doing step add ports -> shipping_lanes...\n",
      "INFO:ffsc.flow.network_flow:ports-shipping missing distance\n",
      "INFO:ffsc.flow.network_flow:['PortNode:START_ID(PortNode)', 'ShipNode:END_ID(ShippingNode)', ':TYPE', 'impedance']\n",
      "INFO:ffsc.flow.network_flow:doing step add ports <- shipping_lanes...\n",
      "INFO:ffsc.flow.network_flow:doing step add shipping_lanes -> shipping_lanes...\n",
      "INFO:ffsc.flow.network_flow:doing step add shipping_lanes <- shipping_lanes...\n",
      "INFO:ffsc.flow.network_flow:doing step add railways -> powerstn...\n",
      "INFO:ffsc.flow.network_flow:doing step add railways -> cities...\n",
      "INFO:ffsc.flow.network_flow:railways-cities missing distance\n",
      "INFO:ffsc.flow.network_flow:['Unnamed: 0', 'CityNode:END_ID(CityNode)', 'RailwayNode:START_ID(RailwayNode)', ':TYPE', 'impedance']\n",
      "Name: \n",
      "Type: DiGraph\n",
      "Number of nodes: 1032349\n",
      "Number of edges: 2259785\n",
      "Average in degree:   2.1890\n",
      "Average out degree:   2.1890\n",
      "impedance: mean 111.72372991235892 max 581541 min 0\n"
     ]
    }
   ],
   "source": [
    "gen._fill_graph()"
   ]
  },
  {
   "cell_type": "code",
   "execution_count": 12,
   "metadata": {},
   "outputs": [
    {
     "name": "stdout",
     "output_type": "stream",
     "text": [
      "INFO:numexpr.utils:Note: NumExpr detected 32 cores but \"NUMEXPR_MAX_THREADS\" not set, so enforcing safe limit of 8.\n",
      "INFO:numexpr.utils:NumExpr defaulting to 8 threads.\n",
      "scope power stations) 17876 28664\n",
      "INFO:ffsc.flow.network_flow:checking powerstation paths...\n",
      "INFO:ffsc.flow.network_flow:ii_p 0, p_count 0\n",
      "INFO:ffsc.flow.network_flow:ii_p 1000, p_count 304\n",
      "INFO:ffsc.flow.network_flow:ii_p 2000, p_count 567\n",
      "INFO:ffsc.flow.network_flow:ii_p 3000, p_count 582\n",
      "INFO:ffsc.flow.network_flow:ii_p 4000, p_count 604\n",
      "INFO:ffsc.flow.network_flow:ii_p 5000, p_count 604\n",
      "INFO:ffsc.flow.network_flow:ii_p 6000, p_count 608\n",
      "INFO:ffsc.flow.network_flow:ii_p 7000, p_count 652\n",
      "INFO:ffsc.flow.network_flow:ii_p 8000, p_count 705\n",
      "INFO:ffsc.flow.network_flow:ii_p 9000, p_count 751\n",
      "INFO:ffsc.flow.network_flow:ii_p 10000, p_count 757\n",
      "INFO:ffsc.flow.network_flow:ii_p 11000, p_count 759\n",
      "INFO:ffsc.flow.network_flow:ii_p 12000, p_count 780\n",
      "INFO:ffsc.flow.network_flow:ii_p 13000, p_count 796\n",
      "INFO:ffsc.flow.network_flow:ii_p 14000, p_count 819\n",
      "INFO:ffsc.flow.network_flow:ii_p 15000, p_count 841\n",
      "INFO:ffsc.flow.network_flow:ii_p 16000, p_count 856\n",
      "INFO:ffsc.flow.network_flow:ii_p 17000, p_count 884\n",
      "INFO:ffsc.flow.network_flow:checking city paths...\n",
      "INFO:ffsc.flow.network_flow:ii_c 0, c_count 0\n",
      "INFO:ffsc.flow.network_flow:ii_c 1000, c_count 96\n",
      "INFO:ffsc.flow.network_flow:ii_c 2000, c_count 120\n",
      "INFO:ffsc.flow.network_flow:ii_c 3000, c_count 156\n",
      "INFO:ffsc.flow.network_flow:ii_c 4000, c_count 231\n",
      "INFO:ffsc.flow.network_flow:sum D pwnstns: 24681263.679077767, sum D cities: 44974547.61759262\n",
      "INFO:ffsc.flow.network_flow:combined sum 69655811.29667038\n"
     ]
    }
   ],
   "source": [
    "gen._prep_flow()"
   ]
  },
  {
   "cell_type": "markdown",
   "metadata": {},
   "source": [
    "# Community Detection"
   ]
  },
  {
   "cell_type": "code",
   "execution_count": 15,
   "metadata": {},
   "outputs": [],
   "source": [
    "from networkx.algorithms import community\n",
    "import community as community_louvain ### this is a different package from the networkx.algorithm package 'community'"
   ]
  },
  {
   "cell_type": "code",
   "execution_count": 16,
   "metadata": {},
   "outputs": [
    {
     "data": {
      "text/plain": [
       "dict_valueiterator"
      ]
     },
     "execution_count": 16,
     "metadata": {},
     "output_type": "execute_result"
    }
   ],
   "source": [
    "asyn_lpa = community.asyn_lpa_communities(gen.G) # Returns communities in G as detected by asynchronous label propagation.\n",
    "type(asyn_lpa)"
   ]
  },
  {
   "cell_type": "code",
   "execution_count": 17,
   "metadata": {},
   "outputs": [],
   "source": [
    "asyn_lpa_list = list(asyn_lpa) # convert from iterator to a list!"
   ]
  },
  {
   "cell_type": "code",
   "execution_count": 18,
   "metadata": {},
   "outputs": [
    {
     "name": "stdout",
     "output_type": "stream",
     "text": [
      "374940\n",
      "1\n",
      "52\n"
     ]
    }
   ],
   "source": [
    "print(len(asyn_lpa_list)) # number of communities\n",
    "print(len(min(asyn_lpa_list, key=len))) # size of the smallest community (last in the list)\n",
    "print(len(max(asyn_lpa_list, key=len))) # size of the largest community (first in the list)"
   ]
  },
  {
   "cell_type": "code",
   "execution_count": 19,
   "metadata": {},
   "outputs": [],
   "source": [
    "x = []\n",
    "for i in range(0, len(asyn_lpa_list)):\n",
    "    a = len(asyn_lpa_list[i])\n",
    "    x.append(a)"
   ]
  },
  {
   "cell_type": "code",
   "execution_count": 20,
   "metadata": {},
   "outputs": [
    {
     "data": {
      "image/png": "[encoded data removed]",
      "text/plain": [
       "<Figure size 432x288 with 1 Axes>"
      ]
     },
     "metadata": {
      "needs_background": "light"
     },
     "output_type": "display_data"
    }
   ],
   "source": [
    "plt.hist(x, bins = 63)\n",
    "plt.show()"
   ]
  },
  {
   "cell_type": "code",
   "execution_count": 21,
   "metadata": {},
   "outputs": [
    {
     "name": "stdout",
     "output_type": "stream",
     "text": [
      "190\n"
     ]
    }
   ],
   "source": [
    "count = 0\n",
    "for i in range(0, len(asyn_lpa_list)):\n",
    "    a = len(asyn_lpa_list[i])\n",
    "    if a >= 10:\n",
    "        count += 1\n",
    "print(count)"
   ]
  },
  {
   "cell_type": "code",
   "execution_count": 22,
   "metadata": {},
   "outputs": [
    {
     "name": "stdout",
     "output_type": "stream",
     "text": [
      "{'railway_node_25.9047571-24.6667781', 'railway_node_25.9047571-24.6664075', 'railway_node_25.9047254-24.6670633', 'coal_mine_1920'}\n"
     ]
    },
    {
     "data": {
      "image/png": "[encoded data removed]",
      "text/plain": [
       "<Figure size 432x288 with 1 Axes>"
      ]
     },
     "metadata": {},
     "output_type": "display_data"
    }
   ],
   "source": [
    "# print list of nodes in community\n",
    "\n",
    "community_num = 0 \n",
    "\n",
    "G_sub = gen.G.subgraph(asyn_lpa_list[community_num])\n",
    "print(asyn_lpa_list[community_num])\n",
    "nx.draw_kamada_kawai(G_sub, with_labels=False)\n",
    "plt.show()"
   ]
  },
  {
   "cell_type": "code",
   "execution_count": null,
   "metadata": {},
   "outputs": [],
   "source": []
  },
  {
   "cell_type": "code",
   "execution_count": null,
   "metadata": {},
   "outputs": [],
   "source": []
  },
  {
   "cell_type": "code",
   "execution_count": null,
   "metadata": {},
   "outputs": [],
   "source": []
  }
 ],
 "metadata": {
  "kernelspec": {
   "display_name": "Python 3",
   "language": "python",
   "name": "python3"
  },
  "language_info": {
   "codemirror_mode": {
    "name": "ipython",
    "version": 3
   },
   "file_extension": ".py",
   "mimetype": "text/x-python",
   "name": "python",
   "nbconvert_exporter": "python",
   "pygments_lexer": "ipython3",
   "version": "3.7.7"
  }
 },
 "nbformat": 4,
 "nbformat_minor": 4
}
