{
 "cells": [
  {
   "cell_type": "markdown",
   "metadata": {},
   "source": [
    "# Solve a pipe-flow problem"
   ]
  },
  {
   "cell_type": "markdown",
   "metadata": {},
   "source": [
    "**plan**:\n",
    "- make an arbitrary networkx object with finite sinks and infinite sources\n",
    "- solve using scipy\n",
    "- adapt network i/o to neo4j/cypher\n",
    "- adapt solver to neo4j/cypher"
   ]
  },
  {
   "cell_type": "markdown",
   "metadata": {},
   "source": [
    "## An arbitrary networkx object with finite sinks and initinite sources"
   ]
  },
  {
   "cell_type": "code",
   "execution_count": 1,
   "metadata": {},
   "outputs": [],
   "source": [
    "import networkx as nx\n",
    "from functools import reduce"
   ]
  },
  {
   "cell_type": "markdown",
   "metadata": {},
   "source": [
    "Can either I) minimise work done: $$\\sum{P_{source,eq}*q_{eq}}$$\n",
    "\n",
    "Or II) assume the pressure at all sources is the same, and just solve for flow. Use super-sinks and super-sources to first solve for pressure, then use root finder."
   ]
  },
  {
   "cell_type": "code",
   "execution_count": 24,
   "metadata": {},
   "outputs": [],
   "source": [
    "G = nx.Graph()"
   ]
  },
  {
   "cell_type": "code",
   "execution_count": 25,
   "metadata": {},
   "outputs": [],
   "source": [
    "G.add_nodes_from(['A','B','C','D','E','F','G','H','I','J','K'])"
   ]
  },
  {
   "cell_type": "code",
   "execution_count": 26,
   "metadata": {},
   "outputs": [],
   "source": [
    "G.add_edges_from([\n",
    "    ('A','B',{'z':5}),\n",
    "    ('B','C',{'z':10}),\n",
    "    ('C','D',{'z':4}),\n",
    "    ('D','E',{'z':5}),\n",
    "    ('E','H',{'z':3}),\n",
    "    ('D','G',{'z':6}),\n",
    "    ('G','I',{'z':12}),\n",
    "    ('J','I',{'z':11}),\n",
    "    ('C','F',{'z':2}),\n",
    "    ('F','J',{'z':3}),\n",
    "    ('B','K',{'z':7}),\n",
    "    ('J','K',{'z':9}),\n",
    "    ('H','I',{'z':7}),\n",
    "    \n",
    "])"
   ]
  },
  {
   "cell_type": "code",
   "execution_count": 29,
   "metadata": {},
   "outputs": [],
   "source": [
    "G_orig = G.copy()"
   ]
  },
  {
   "cell_type": "code",
   "execution_count": 30,
   "metadata": {},
   "outputs": [],
   "source": [
    "nodes = [n for n,d in dict(G.degree).items() if d==2]"
   ]
  },
  {
   "cell_type": "code",
   "execution_count": 31,
   "metadata": {},
   "outputs": [],
   "source": [
    "subgraph_components = [c for c in nx.connected_components(G.subgraph(nodes))]"
   ]
  },
  {
   "cell_type": "code",
   "execution_count": 32,
   "metadata": {},
   "outputs": [
    {
     "name": "stdout",
     "output_type": "stream",
     "text": [
      "{'F'}\n",
      "[('F', 'C', {'z': 2}), ('F', 'J', {'z': 3})]\n",
      "{'E', 'H'}\n",
      "[('E', 'D', {'z': 5}), ('E', 'H', {'z': 3}), ('H', 'I', {'z': 7})]\n",
      "{'K'}\n",
      "[('K', 'B', {'z': 7}), ('K', 'J', {'z': 9})]\n",
      "{'G'}\n",
      "[('G', 'D', {'z': 6}), ('G', 'I', {'z': 12})]\n"
     ]
    }
   ],
   "source": [
    "for cc in subgraph_components:\n",
    "    print (cc)\n",
    "    print (G.edges(cc, data=True))\n",
    "\n",
    "    #print ([(j[0],j[1]) for j in G.edges(cc,data=True)])\n",
    "    #print (set(reduce(lambda x,y: [x[0],x[1]]+[y[0],y[1]], G.edges(cc,data=True)))-cc)\n",
    "    #print (set([j for sub in G.edges(cc, data=True) for j in sub] )-cc)"
   ]
  },
  {
   "cell_type": "code",
   "execution_count": 33,
   "metadata": {},
   "outputs": [],
   "source": [
    "def simplify(G, start_node, end_node):\n",
    "    \n",
    "    # get degree-2 nodes\n",
    "    nodes = [n for n,d in dict(G.degree).items() if d==2]\n",
    "    print ()\n",
    "    \n",
    "    # get component subgraphs based on \n",
    "    subgraph_components = [c for c in nx.connected_components(G.subgraph(nodes))]\n",
    "    \n",
    "    \n",
    "    for cc in subgraph_components:\n",
    "        print (cc)\n",
    "        \n",
    "        if (start_node not in cc) and (end_node not in cc):\n",
    "\n",
    "        \n",
    "            # for each subgraph, get the edges\n",
    "            edges = list(G.edges(cc, data=True))\n",
    "            print (edges)\n",
    "\n",
    "            # get the start and end nodes\n",
    "            startend_nodes = list(set(reduce(lambda x,y: [x[0],x[1]]+[y[0],y[1]], G.edges(cc,data=True)))-cc)\n",
    "\n",
    "            # get series impedence\n",
    "            z_eq = sum([e[2]['z'] for e in edges])\n",
    "            print ('new edge',startend_nodes[0], startend_nodes[1],f'z={z_eq}')\n",
    "\n",
    "            # add the equivalent edge to the graph or get parallel equivalent\n",
    "            if G.has_edge(startend_nodes[0], startend_nodes[1]):\n",
    "                z_eq = 1/(1/z_eq + 1/G.get_edge_data(startend_nodes[0],startend_nodes[1])['z'])\n",
    "                G.get_edge_data(startend_nodes[0],startend_nodes[1])['z']=z_eq                \n",
    "            else:\n",
    "                G.add_edge(startend_nodes[0], startend_nodes[1],z=z_eq)\n",
    "\n",
    "            # remove edges and nodes\n",
    "            G.remove_nodes_from(cc) # also removes edges\n",
    "        \n",
    "    return G        "
   ]
  },
  {
   "cell_type": "code",
   "execution_count": 35,
   "metadata": {},
   "outputs": [
    {
     "name": "stdout",
     "output_type": "stream",
     "text": [
      "{'F'}\n",
      "[('F', 'C', {'z': 2}), ('F', 'J', {'z': 3})]\n",
      "new edge J C z=5\n",
      "{'E', 'H'}\n",
      "[('E', 'D', {'z': 5}), ('E', 'H', {'z': 3}), ('H', 'I', {'z': 7})]\n",
      "new edge I D z=15\n",
      "{'K'}\n",
      "{'G'}\n",
      "[('G', 'D', {'z': 6}), ('G', 'I', {'z': 12})]\n",
      "new edge I D z=18\n"
     ]
    },
    {
     "data": {
      "text/plain": [
       "<networkx.classes.graph.Graph at 0x7f4264cdd2d0>"
      ]
     },
     "execution_count": 35,
     "metadata": {},
     "output_type": "execute_result"
    }
   ],
   "source": [
    "simplify(G,'A','K')"
   ]
  },
  {
   "cell_type": "code",
   "execution_count": 40,
   "metadata": {},
   "outputs": [
    {
     "data": {
      "text/plain": [
       "[('A', 'B', {'z': 5}),\n",
       " ('B', 'C', {'z': 10}),\n",
       " ('B', 'K', {'z': 7}),\n",
       " ('C', 'J', {'z': 4.112903225806451}),\n",
       " ('J', 'K', {'z': 9})]"
      ]
     },
     "execution_count": 40,
     "metadata": {},
     "output_type": "execute_result"
    }
   ],
   "source": [
    "list(G.edges(data=True))"
   ]
  },
  {
   "cell_type": "code",
   "execution_count": 38,
   "metadata": {},
   "outputs": [
    {
     "data": {
      "text/plain": [
       "8.181818181818182"
      ]
     },
     "execution_count": 38,
     "metadata": {},
     "output_type": "execute_result"
    }
   ],
   "source": [
    "1/(1/15+1/18)"
   ]
  },
  {
   "cell_type": "code",
   "execution_count": 39,
   "metadata": {},
   "outputs": [
    {
     "name": "stdout",
     "output_type": "stream",
     "text": [
      "{'K'}\n",
      "{'I', 'D'}\n",
      "[('I', 'J', {'z': 11}), ('I', 'D', {'z': 8.181818181818182}), ('D', 'C', {'z': 4})]\n",
      "new edge J C z=23.18181818181818\n"
     ]
    },
    {
     "data": {
      "text/plain": [
       "<networkx.classes.graph.Graph at 0x7f4264cdd2d0>"
      ]
     },
     "execution_count": 39,
     "metadata": {},
     "output_type": "execute_result"
    }
   ],
   "source": [
    "simplify(G,'A','K')"
   ]
  },
  {
   "cell_type": "code",
   "execution_count": 42,
   "metadata": {},
   "outputs": [
    {
     "data": {
      "text/plain": [
       "23.112845990063875"
      ]
     },
     "execution_count": 42,
     "metadata": {},
     "output_type": "execute_result"
    }
   ],
   "source": [
    "1/(1/23.18+1/5)+10+9"
   ]
  },
  {
   "cell_type": "code",
   "execution_count": 48,
   "metadata": {},
   "outputs": [
    {
     "name": "stdout",
     "output_type": "stream",
     "text": [
      "{'J', 'K', 'C'}\n"
     ]
    }
   ],
   "source": [
    "G=simplify(G,'A','K')"
   ]
  },
  {
   "cell_type": "code",
   "execution_count": 49,
   "metadata": {},
   "outputs": [
    {
     "data": {
      "text/plain": [
       "[('A', 'B', {'z': 5}),\n",
       " ('B', 'C', {'z': 10}),\n",
       " ('B', 'K', {'z': 7}),\n",
       " ('C', 'J', {'z': 4.112903225806451}),\n",
       " ('J', 'K', {'z': 9})]"
      ]
     },
     "execution_count": 49,
     "metadata": {},
     "output_type": "execute_result"
    }
   ],
   "source": [
    "list(G.edges(data=True))"
   ]
  },
  {
   "cell_type": "code",
   "execution_count": null,
   "metadata": {},
   "outputs": [],
   "source": []
  }
 ],
 "metadata": {
  "kernelspec": {
   "display_name": "Python 3",
   "language": "python",
   "name": "python3"
  },
  "language_info": {
   "codemirror_mode": {
    "name": "ipython",
    "version": 3
   },
   "file_extension": ".py",
   "mimetype": "text/x-python",
   "name": "python",
   "nbconvert_exporter": "python",
   "pygments_lexer": "ipython3",
   "version": "3.7.6"
  }
 },
 "nbformat": 4,
 "nbformat_minor": 4
}
